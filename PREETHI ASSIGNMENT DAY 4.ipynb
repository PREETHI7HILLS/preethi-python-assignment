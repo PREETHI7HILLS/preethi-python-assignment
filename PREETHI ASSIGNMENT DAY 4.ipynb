{
 "cells": [
  {
   "cell_type": "markdown",
   "metadata": {},
   "source": [
    "# Assignment day- 4\n"
   ]
  },
  {
   "cell_type": "code",
   "execution_count": 2,
   "metadata": {},
   "outputs": [
    {
     "name": "stdout",
     "output_type": "stream",
     "text": [
      "1741725 is the first Armstrong number\n"
     ]
    }
   ],
   "source": [
    "for i in range(1042000,70264865):\n",
    "    nO= i\n",
    "    SUM = 0\n",
    "    hold = nO\n",
    "    n=len(str(nO))\n",
    "    while hold > 0:\n",
    "        digit = hold % 10\n",
    "        SUM += digit ** n\n",
    "        hold //= 10\n",
    "    if nO == SUM:\n",
    "        print(nO,\"is the first Armstrong number\")\n",
    "        break"
   ]
  },
  {
   "cell_type": "code",
   "execution_count": null,
   "metadata": {},
   "outputs": [],
   "source": []
  }
 ],
 "metadata": {
  "kernelspec": {
   "display_name": "Python 3",
   "language": "python",
   "name": "python3"
  },
  "language_info": {
   "codemirror_mode": {
    "name": "ipython",
    "version": 3
   },
   "file_extension": ".py",
   "mimetype": "text/x-python",
   "name": "python",
   "nbconvert_exporter": "python",
   "pygments_lexer": "ipython3",
   "version": "3.8.3"
  }
 },
 "nbformat": 4,
 "nbformat_minor": 4
}
